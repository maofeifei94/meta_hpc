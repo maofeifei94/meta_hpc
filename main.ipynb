{
 "cells": [
  {
   "cell_type": "code",
   "execution_count": null,
   "metadata": {},
   "outputs": [],
   "source": [
    "# deepmind lab\n",
    "wget https://mirrors.huaweicloud.com/bazel/5.0.0/bazel-0.20.0-linux-x86_64\n",
    "vim ~/.bazelrc\n",
    "build --cxxopt=-std=c++14 \n",
    "\n",
    "$ cd lab\n",
    "../bazel build -c opt //:deepmind_lab.so\n",
    "lab$ bazel test -c opt //python/tests:python_module_test\n",
    "lab$ bazel run -c opt //:python_random_agent"
   ]
  },
  {
   "cell_type": "code",
   "execution_count": 3,
   "metadata": {},
   "outputs": [
    {
     "ename": "SyntaxError",
     "evalue": "invalid syntax (1712133784.py, line 1)",
     "output_type": "error",
     "traceback": [
      "\u001b[0;36m  Cell \u001b[0;32mIn[3], line 1\u001b[0;36m\u001b[0m\n\u001b[0;31m    unzip -o ~/data/data228214/lmdb_data.zip -d /tmp/\u001b[0m\n\u001b[0m             ^\u001b[0m\n\u001b[0;31mSyntaxError\u001b[0m\u001b[0;31m:\u001b[0m invalid syntax\n"
     ]
    }
   ],
   "source": [
    "unzip -o ~/data/data228214/lmdb_data.zip -d /tmp/\n",
    "\n",
    "# conda create -n py39 python=3.9.16\n",
    "# conda activate py39\n",
    "# pip install paddlepaddle-gpu==2.4.2\n",
    "# conda install cudatoolkit=10.2 -c https://mirrors.tuna.tsinghua.edu.cn/anaconda/cloud/conda-forge\n",
    "# conda install paddlepaddle-gpu==2.4.2 cudatoolkit=11.6 -c https://mirrors.tuna.tsinghua.edu.cn/anaconda/cloud/Paddle/ -c https://mirrors.tuna.tsinghua.edu.cn/anaconda/cloud/conda-forge\n",
    "pip install -r requirement_build.txt --user\n",
    "pip install -r requirement.txt --user\n",
    "\n",
    "nohup Xvfb :2 -ac -screen 0 320x320x24 &\n",
    "export DISPLAY=:2"
   ]
  },
  {
   "cell_type": "code",
   "execution_count": null,
   "metadata": {
    "scrolled": true
   },
   "outputs": [],
   "source": [
    "git init\n",
    "git config --global http.postBuffer 524288000\n",
    "git clone https://github.com/maofeifei94/meta_hpc_git.git --depth=1\n",
    "\n",
    "git config --global user.name maofeifei94\n",
    "git config --global user.email 18597803460@163.com\n",
    "git config credential.helper store\n",
    "git fetch --all \n",
    "git reset --hard origin/master\n",
    "git pull"
   ]
  },
  {
   "cell_type": "code",
   "execution_count": null,
   "metadata": {
    "collapsed": false,
    "jupyter": {
     "outputs_hidden": false
    },
    "scrolled": true
   },
   "outputs": [],
   "source": [
    "from matplotlib import pyplot as plt\n",
    "import time\n",
    "import cv2\n",
    "import numpy as np\n",
    "from IPython.display import clear_output\n",
    "import os\n",
    "def round_sf_np(x,significant_figure=0):\n",
    "    return np.format_float_positional(x, precision=significant_figure, unique=False, fractional=False, trim='k')\n",
    "\n",
    "def find_newest_file(log_dir):\n",
    "    max_time=0\n",
    "    newest_f=None\n",
    "    for f in os.listdir(log_dir):\n",
    "        if \".txt\" not in f:\n",
    "            continue\n",
    "        try:\n",
    "            f_time=int(f.replace(\"_\",\"\").replace(\".txt\",\"\"))\n",
    "        except:\n",
    "            continue\n",
    "        if f_time>max_time:\n",
    "            max_time=f_time\n",
    "            newest_f=f\n",
    "    return f\"{log_dir}/{newest_f}\"\n",
    "def read_log(log_file):\n",
    "    info_dict={}\n",
    "    for line in open(log_file,\"r\").readlines():\n",
    "        if not \"|\" in line:\n",
    "            continue\n",
    "        line_split=line.split(\"|\")\n",
    "        for j in range(1,len(line_split)):\n",
    "            info_parts=line_split[j].split(\"=\")\n",
    "            info_name=info_parts[0]\n",
    "            info_value=float(info_parts[1].replace(\"\\n\",\"\"))\n",
    "            if info_name in info_dict.keys():\n",
    "                info_dict[info_name].append(info_value)\n",
    "            else:\n",
    "                info_dict[info_name]=[info_value]\n",
    "    return info_dict\n",
    "\n",
    "def norm_list(x):\n",
    "    return x/np.max(np.abs(x))\n",
    "\n",
    "def moving_avg_list(reward_list,gamma=0.8):\n",
    "    avg_reward_list=[]\n",
    "    for r in reward_list:\n",
    "        if len(avg_reward_list)==0:\n",
    "            avg_reward_list.append(r)\n",
    "        else:\n",
    "            avg_reward_list.append(avg_reward_list[-1]*gamma+(1-gamma)*r)\n",
    "    return avg_reward_list\n",
    "def round_sf_np(x,significant_figure=0):\n",
    "    \"\"\"\n",
    "    有效位数significant_figure\n",
    "    \"\"\"\n",
    "    return np.format_float_positional(x, precision=significant_figure, unique=False, fractional=False, trim='k')\n",
    "def plot_info_dict(info_dict,show_key_list,ymin=-1.1,ymax=1.1,loc='lower left'):\n",
    "    for key in info_dict.keys():\n",
    "        info_dict[key]=info_dict[key]\n",
    "        if key in show_key_list:\n",
    "            label=key\n",
    "            prec=3\n",
    "            label+=\" | max\"+str(round_sf_np(np.max(moving_avg_list(info_dict[key])),prec))\n",
    "            label+=\" | min\"+str(round_sf_np(np.min(moving_avg_list(info_dict[key])),prec))\n",
    "            label+=\" | now\"+str(round_sf_np(moving_avg_list(info_dict[key])[-1],prec))\n",
    "            plt.plot(norm_list(moving_avg_list(info_dict[key])),label=label)\n",
    "            plt.scatter(list(range(len(info_dict[key]))),info_dict[key]/np.max(np.abs(moving_avg_list(info_dict[key]))),s=1.0,alpha=0.3)\n",
    "    plt.ylim(ymin,ymax)\n",
    "    # plt.legend(loc='upper left')\n",
    "    plt.legend(loc=loc)\n",
    "    plt.show()\n",
    "def show_ppo_cae():\n",
    "    while 1:\n",
    "\n",
    "        clear_output()\n",
    "        # ppo_file=find_newest_file(\"/home/aistudio/work/meta_hpc/log/ppolog\")\n",
    "        # ppo_info_dict=read_log(ppo_file)\n",
    "        # plot_info_dict(ppo_info_dict,[\"reward\",\"inner_reward\",\"env_reward\",\"v_loss\",\"action_discrete_loss\",\"action_discrete_dist_entropy\"])\n",
    "        # plt.show()\n",
    "\n",
    "        ec_file=find_newest_file(\"/home/aistudio/work/meta_hpc/log/eclog\")\n",
    "        ec_info_dict=read_log(ec_file)\n",
    "        plot_info_dict(ec_info_dict,['pred_loss','kl_loss',\"klpred_loss\"],ymin=0.0,loc='upper left')\n",
    "        plt.show()\n",
    "\n",
    "        # cae_file=find_newest_file(\"/home/aistudio/work/meta_hpc/log/caelog\")\n",
    "        # cae_info_dict=read_log(cae_file)\n",
    "        # plot_info_dict(cae_info_dict,['loss_kl','loss_recon'],ymin=0.0,loc='upper left')\n",
    "        # plt.show()\n",
    "        # cae_img=cv2.imread(\"/home/aistudio/work/meta_hpc/all_data/cae_img/newest.jpg\")\n",
    "        # cv2.rectangle(cae_img,(127-32,127-32),(128+32,128+32),(0,255,0),1)\n",
    "        # cv2.rectangle(cae_img,(127-32+256,127-32),(128+32+256,128+32),(0,255,0),1)\n",
    "        # plt.imshow(cae_img)\n",
    "\n",
    "        plt.show()\n",
    "\n",
    "        time.sleep(20)\n",
    "\n",
    "if __name__==\"__main__\":\n",
    "    show_ppo_cae()\n"
   ]
  },
  {
   "attachments": {},
   "cell_type": "markdown",
   "metadata": {},
   "source": [
    "请点击[此处](https://ai.baidu.com/docs#/AIStudio_Project_Notebook/a38e5576)查看本环境基本用法.  <br>\n",
    "Please click [here ](https://ai.baidu.com/docs#/AIStudio_Project_Notebook/a38e5576) for more detailed instructions. "
   ]
  }
 ],
 "metadata": {
  "kernelspec": {
   "display_name": "Python 3.9.16 ('paddle2.4')",
   "language": "python",
   "name": "python3"
  },
  "language_info": {
   "codemirror_mode": {
    "name": "ipython",
    "version": 3
   },
   "file_extension": ".py",
   "mimetype": "text/x-python",
   "name": "python",
   "nbconvert_exporter": "python",
   "pygments_lexer": "ipython3",
   "version": "3.9.16"
  },
  "vscode": {
   "interpreter": {
    "hash": "c64d267e9ad50e110e9bfcf1aa5f66b15c02bc2a11819eedc07dac6d833fcaf8"
   }
  }
 },
 "nbformat": 4,
 "nbformat_minor": 4
}
